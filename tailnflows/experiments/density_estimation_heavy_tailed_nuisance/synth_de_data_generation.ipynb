{
  "cells": [
    {
      "cell_type": "code",
      "execution_count": 1,
      "metadata": {
        "colab": {
          "base_uri": "https://localhost:8080/"
        },
        "id": "pTuyfPsMDiw1",
        "outputId": "0245bbcf-d7db-41e1-bf07-8f4a27e4397a"
      },
      "outputs": [
        {
          "output_type": "stream",
          "name": "stdout",
          "text": [
            "installing tailnflows environment...\n",
            "b\"  Running command git clone --filter=blob:none --quiet https://github.com/Tennessee-Wallaceh/nflows /tmp/pip-req-build-gmqrskmm\\n  Encountered 2 file(s) that should have been pointers, but weren't:\\n        examples/conditional_moons.ipynb\\n        examples/moons.ipynb\\n\"\n",
            "b'  Running command git clone --filter=blob:none --quiet https://github.com/Tennessee-Wallaceh/marginalTailAdaptiveFlow.git /tmp/pip-req-build-s69unxyj\\n'\n",
            "Setup complete!\n"
          ]
        }
      ],
      "source": [
        "# boiler plate to allow running in colab, can ignore if running locally\n",
        "import subprocess\n",
        "try:\n",
        "    import tailnflows\n",
        "except ModuleNotFoundError:\n",
        "    # need to build environment\n",
        "    print('installing tailnflows environment...')\n",
        "    subprocess.run(['pip', 'install', 'git+https://github.com/Tennessee-Wallaceh/tailnflows'])\n",
        "    import tailnflows\n",
        "    from tailnflows.utils import configure_colab_env\n",
        "    configure_colab_env() # can take a while\n",
        "    import torch\n",
        "    torch.set_default_device('cuda')"
      ]
    },
    {
      "cell_type": "code",
      "execution_count": null,
      "metadata": {
        "colab": {
          "base_uri": "https://localhost:8080/"
        },
        "id": "jh48OyKQXJL4",
        "outputId": "64722bd8-af50-4ca3-e02a-aa6ca33b2e19"
      },
      "outputs": [
        {
          "output_type": "stream",
          "name": "stdout",
          "text": [
            "==================== v=0.5, dim=2 ====================\n",
            "==================== v=1.0, dim=2 ====================\n",
            "==================== v=2.0, dim=2 ====================\n",
            "==================== v=30.0, dim=2 ====================\n"
          ]
        }
      ],
      "source": [
        "### build datasets\n",
        "from tailnflows.targets.heavy_tailed_nuisance import log_density, generate_data\n",
        "from tailnflows.utils import get_project_root\n",
        "\n",
        "target_dims = [2, 5, 10, 50]\n",
        "nuisance_dfs = [0.5, 1., 2., 30.]\n",
        "\n",
        "for nuisance_df in nuisance_dfs:\n",
        "  for dim in target_dims:\n",
        "    # for nuisance_df in nuisance_dfs:\n",
        "      print('=' * 20, f'v={nuisance_df}, dim={dim}', '=' * 20)\n",
        "      for repeat in range(10):\n",
        "        # generate data\n",
        "        n = 5000\n",
        "        trn_ix, val_ix, tst_ix = torch.split(torch.arange(n), [int(n * 0.4), int(n * 0.2), n - int(n * 0.4) - int(n * 0.2)])\n",
        "        x = generate_data(n, dim, heavy_df=nuisance_df).to(torch.float64)\n",
        "        file_name = f'{get_project_root()}/data/synthetic/alt_shift_new/dim-{dim}_v-{str(nuisance_df).replace(\".\",\",\")}_repeat-{repeat}.p'\n",
        "        dataset = {\n",
        "            'data': x,\n",
        "            'split': {'trn': trn_ix, 'val': val_ix, 'tst': tst_ix},\n",
        "            'metadata': {'nuisance_df': nuisance_df, 'dim': dim},\n",
        "        }\n",
        "        torch.save(dataset, file_name)"
      ]
    }
  ],
  "metadata": {
    "accelerator": "GPU",
    "colab": {
      "machine_shape": "hm",
      "provenance": [],
      "gpuType": "V100"
    },
    "kernelspec": {
      "display_name": "Python 3",
      "name": "python3"
    },
    "language_info": {
      "name": "python"
    }
  },
  "nbformat": 4,
  "nbformat_minor": 0
}