{
 "cells": [
  {
   "cell_type": "code",
   "execution_count": 1,
   "metadata": {},
   "outputs": [],
   "source": [
    "# boiler plate to allow running in colab, can ignore if running locally\n",
    "import subprocess\n",
    "try:\n",
    "    import tailnflows\n",
    "except ModuleNotFoundError:\n",
    "    # need to build environment\n",
    "    print('installing tailnflows environment...')\n",
    "    subprocess.run(['pip', 'install', 'git+https://github.com/Tennessee-Wallaceh/tailnflows'])\n",
    "    import tailnflows\n",
    "    from tailnflows.utils import configure_colab_env\n",
    "    configure_colab_env() # can take a while\n",
    "    import torch\n",
    "    torch.set_default_device('cuda')"
   ]
  },
  {
   "cell_type": "code",
   "execution_count": 4,
   "metadata": {},
   "outputs": [],
   "source": [
    "import torch\n",
    "import matplotlib.pyplot as plt\n",
    "from tailnflows.experiments.neural_network_regression.extreme_nn_experiment import run_experiment"
   ]
  },
  {
   "cell_type": "code",
   "execution_count": 15,
   "metadata": {},
   "outputs": [],
   "source": [
    "activations = {\n",
    "    'relu': torch.nn.functional.relu,\n",
    "    'sigmoid': torch.nn.functional.sigmoid,\n",
    "}"
   ]
  },
  {
   "cell_type": "code",
   "execution_count": 16,
   "metadata": {},
   "outputs": [],
   "source": [
    "data = {}"
   ]
  },
  {
   "cell_type": "code",
   "execution_count": 17,
   "metadata": {},
   "outputs": [
    {
     "name": "stdout",
     "output_type": "stream",
     "text": [
      "repeat __ 0 __\n"
     ]
    },
    {
     "name": "stderr",
     "output_type": "stream",
     "text": [
      "100%|██████████| 5000/5000 [00:56<00:00, 88.10it/s, loss=1.16 | * 7.87]        \n",
      "100%|██████████| 5000/5000 [01:18<00:00, 63.70it/s, loss=0.87 | * 1.00] \n",
      "100%|██████████| 5000/5000 [01:23<00:00, 59.88it/s, loss=1.20 | * 1.02]\n",
      "100%|██████████| 5000/5000 [01:44<00:00, 47.85it/s, loss=2.21 | * 17.45]       \n",
      "100%|██████████| 5000/5000 [01:38<00:00, 50.53it/s, loss=0.99 | * 1.05] \n",
      "100%|██████████| 5000/5000 [01:21<00:00, 61.43it/s, loss=0.84 | * 1.02] \n",
      "100%|██████████| 5000/5000 [01:35<00:00, 52.51it/s, loss=16.58 | * 10.94]       \n",
      "100%|██████████| 5000/5000 [01:39<00:00, 50.35it/s, loss=0.55 | * 1.21]  \n",
      "100%|██████████| 5000/5000 [01:35<00:00, 52.25it/s, loss=0.67 | * 1.10] \n",
      "100%|██████████| 5000/5000 [01:26<00:00, 57.68it/s, loss=6.40 | * 106.20]      \n",
      "100%|██████████| 5000/5000 [01:30<00:00, 55.23it/s, loss=0.48 | * 1.42]  \n",
      "100%|██████████| 5000/5000 [01:30<00:00, 54.98it/s, loss=0.32 | * 1.16]\n",
      "100%|██████████| 5000/5000 [01:49<00:00, 45.63it/s, loss=84.63 | * 939.13]     \n",
      "100%|██████████| 5000/5000 [01:27<00:00, 57.33it/s, loss=1.05 | * 4.25]   \n",
      "100%|██████████| 5000/5000 [01:23<00:00, 59.65it/s, loss=0.98 | * 1.00]\n",
      "100%|██████████| 5000/5000 [01:36<00:00, 51.69it/s, loss=10.68 | * 221387.36]    \n",
      "100%|██████████| 5000/5000 [01:27<00:00, 57.21it/s, loss=1.33 | * 2.78]   \n",
      "100%|██████████| 5000/5000 [01:13<00:00, 68.13it/s, loss=0.91 | * 1.02] \n",
      "100%|██████████| 5000/5000 [01:17<00:00, 64.40it/s, loss=53.97 | * 11680.52]     \n",
      "100%|██████████| 5000/5000 [01:29<00:00, 56.15it/s, loss=1.07 | * 6.03]  \n",
      "100%|██████████| 5000/5000 [01:33<00:00, 53.48it/s, loss=0.92 | * 1.01]\n",
      "100%|██████████| 5000/5000 [01:37<00:00, 51.48it/s, loss=103.82 | * 954003.56]    \n",
      "100%|██████████| 5000/5000 [01:28<00:00, 56.25it/s, loss=0.67 | * 5.37]   \n",
      "100%|██████████| 5000/5000 [01:10<00:00, 71.05it/s, loss=0.62 | * 1.05] \n"
     ]
    },
    {
     "name": "stdout",
     "output_type": "stream",
     "text": [
      "repeat __ 1 __\n"
     ]
    },
    {
     "name": "stderr",
     "output_type": "stream",
     "text": [
      "100%|██████████| 5000/5000 [01:29<00:00, 55.89it/s, loss=1.29 | * 1.80]         \n",
      "100%|██████████| 5000/5000 [01:25<00:00, 58.19it/s, loss=0.96 | * 1.02] \n",
      "100%|██████████| 5000/5000 [01:20<00:00, 62.14it/s, loss=1.35 | * 1.00] \n",
      "100%|██████████| 5000/5000 [01:17<00:00, 64.59it/s, loss=1.71 | * 2.92]         \n",
      "100%|██████████| 5000/5000 [01:35<00:00, 52.29it/s, loss=0.99 | * 1.02]  \n",
      "100%|██████████| 5000/5000 [01:31<00:00, 54.91it/s, loss=0.99 | * 0.97] \n",
      "100%|██████████| 5000/5000 [01:26<00:00, 57.67it/s, loss=2.89 | * 28.26]      \n",
      "100%|██████████| 5000/5000 [01:42<00:00, 48.75it/s, loss=0.77 | * 1.29]  \n",
      "100%|██████████| 5000/5000 [01:36<00:00, 51.89it/s, loss=0.60 | * 1.07]\n",
      "100%|██████████| 5000/5000 [01:27<00:00, 57.44it/s, loss=9.13 | * 2930.70]      \n",
      "100%|██████████| 5000/5000 [01:32<00:00, 53.96it/s, loss=0.59 | * 1.47]  \n",
      "100%|██████████| 5000/5000 [01:31<00:00, 54.46it/s, loss=0.51 | * 1.18] \n",
      "100%|██████████| 5000/5000 [01:20<00:00, 61.93it/s, loss=10.25 | * 12661.63]      \n",
      "100%|██████████| 5000/5000 [01:12<00:00, 69.08it/s, loss=0.96 | * 1.96] \n",
      "100%|██████████| 5000/5000 [01:29<00:00, 56.18it/s, loss=0.84 | * 1.03]\n",
      "100%|██████████| 5000/5000 [01:27<00:00, 57.35it/s, loss=210.63 | * 2363.28]     \n",
      "100%|██████████| 5000/5000 [01:20<00:00, 61.84it/s, loss=0.89 | * 6.20]  \n",
      "100%|██████████| 5000/5000 [01:12<00:00, 69.39it/s, loss=1.13 | * 1.03] \n",
      "100%|██████████| 5000/5000 [01:26<00:00, 57.99it/s, loss=6200.95 | * 36608.96]   \n",
      "100%|██████████| 5000/5000 [01:27<00:00, 56.84it/s, loss=0.77 | * 2.57]  \n",
      "100%|██████████| 5000/5000 [01:27<00:00, 57.45it/s, loss=0.96 | * 1.01] \n",
      "100%|██████████| 5000/5000 [01:19<00:00, 63.28it/s, loss=41.60 | * 308872.09]    \n",
      "100%|██████████| 5000/5000 [01:23<00:00, 59.66it/s, loss=0.61 | * 6.67]   \n",
      "100%|██████████| 5000/5000 [01:31<00:00, 54.90it/s, loss=0.61 | * 1.07]\n"
     ]
    },
    {
     "name": "stdout",
     "output_type": "stream",
     "text": [
      "repeat __ 2 __\n"
     ]
    },
    {
     "name": "stderr",
     "output_type": "stream",
     "text": [
      "100%|██████████| 5000/5000 [01:24<00:00, 59.32it/s, loss=0.87 | * 1.92]         \n",
      "100%|██████████| 5000/5000 [01:43<00:00, 48.37it/s, loss=1.01 | * 1.03] \n",
      "100%|██████████| 5000/5000 [01:34<00:00, 52.94it/s, loss=0.97 | * 1.05] \n",
      "100%|██████████| 5000/5000 [01:27<00:00, 56.91it/s, loss=2.69 | * 9.88]       \n",
      "100%|██████████| 5000/5000 [01:19<00:00, 63.19it/s, loss=1.04 | * 1.06]  \n",
      "100%|██████████| 5000/5000 [01:47<00:00, 46.58it/s, loss=0.96 | * 1.02]\n",
      "100%|██████████| 5000/5000 [01:30<00:00, 55.17it/s, loss=4.28 | * 9765.17]       \n",
      "100%|██████████| 5000/5000 [01:25<00:00, 58.25it/s, loss=0.77 | * 1.20] \n",
      "100%|██████████| 5000/5000 [01:20<00:00, 61.91it/s, loss=0.70 | * 1.10] \n",
      "100%|██████████| 5000/5000 [01:40<00:00, 49.53it/s, loss=8.70 | * 266.35]       \n",
      "100%|██████████| 5000/5000 [01:38<00:00, 50.63it/s, loss=0.60 | * 1.65]  \n",
      "100%|██████████| 5000/5000 [01:19<00:00, 62.63it/s, loss=0.42 | * 1.13] \n",
      "100%|██████████| 5000/5000 [01:20<00:00, 62.30it/s, loss=27.77 | * 7661.47]    \n",
      "100%|██████████| 5000/5000 [01:31<00:00, 54.88it/s, loss=0.98 | * 5.09]  \n",
      "100%|██████████| 5000/5000 [01:37<00:00, 51.04it/s, loss=1.22 | * 1.02] \n",
      "100%|██████████| 5000/5000 [01:29<00:00, 55.61it/s, loss=9.22 | * 10713.99]       \n",
      "100%|██████████| 5000/5000 [01:19<00:00, 63.01it/s, loss=1.05 | * 2.60]  \n",
      "100%|██████████| 5000/5000 [01:30<00:00, 55.50it/s, loss=0.85 | * 1.02]\n",
      "100%|██████████| 5000/5000 [01:40<00:00, 49.54it/s, loss=6.82 | * 12574.44]     \n",
      "100%|██████████| 5000/5000 [01:33<00:00, 53.33it/s, loss=0.71 | * 3.21]  \n",
      "100%|██████████| 5000/5000 [01:21<00:00, 61.07it/s, loss=0.89 | * 1.03] \n",
      "100%|██████████| 5000/5000 [01:33<00:00, 53.22it/s, loss=7427.95 | * 14725698.00]  \n",
      "100%|██████████| 5000/5000 [01:39<00:00, 50.11it/s, loss=0.54 | * 33.37]  \n",
      "100%|██████████| 5000/5000 [01:37<00:00, 51.10it/s, loss=0.61 | * 1.03] \n"
     ]
    },
    {
     "name": "stdout",
     "output_type": "stream",
     "text": [
      "repeat __ 3 __\n"
     ]
    },
    {
     "name": "stderr",
     "output_type": "stream",
     "text": [
      "100%|██████████| 5000/5000 [01:18<00:00, 64.08it/s, loss=1.84 | * 1.51]      \n",
      "100%|██████████| 5000/5000 [01:22<00:00, 60.75it/s, loss=0.96 | * 1.00] \n",
      "100%|██████████| 5000/5000 [01:33<00:00, 53.50it/s, loss=0.80 | * 1.01] \n",
      "100%|██████████| 5000/5000 [01:33<00:00, 53.46it/s, loss=439495.88 | * 204.24]       \n",
      "100%|██████████| 5000/5000 [01:22<00:00, 60.97it/s, loss=0.75 | * 1.06] \n",
      "100%|██████████| 5000/5000 [01:21<00:00, 61.19it/s, loss=0.95 | * 1.01]\n",
      "100%|██████████| 5000/5000 [01:38<00:00, 50.95it/s, loss=5.36 | * 244.32]      \n",
      "100%|██████████| 5000/5000 [01:38<00:00, 50.96it/s, loss=0.85 | * 1.22] \n",
      "100%|██████████| 5000/5000 [01:22<00:00, 60.43it/s, loss=0.64 | * 1.09] \n",
      "100%|██████████| 5000/5000 [01:22<00:00, 60.26it/s, loss=6.29 | * 357.83]       \n",
      "100%|██████████| 5000/5000 [01:32<00:00, 54.14it/s, loss=0.38 | * 1.89]  \n",
      "100%|██████████| 5000/5000 [01:37<00:00, 51.43it/s, loss=0.31 | * 1.13] \n",
      "100%|██████████| 5000/5000 [01:31<00:00, 54.87it/s, loss=206.45 | * 1466.53]    \n",
      "100%|██████████| 5000/5000 [01:26<00:00, 57.86it/s, loss=1.11 | * 9.65]     \n",
      "100%|██████████| 5000/5000 [01:20<00:00, 61.75it/s, loss=1.27 | * 0.99]\n",
      "100%|██████████| 5000/5000 [01:39<00:00, 50.09it/s, loss=224.33 | * 8855.74]    \n",
      "100%|██████████| 5000/5000 [01:35<00:00, 52.20it/s, loss=1.54 | * 4.77]    \n",
      "100%|██████████| 5000/5000 [01:34<00:00, 52.88it/s, loss=0.78 | * 1.03] \n",
      "100%|██████████| 5000/5000 [01:35<00:00, 52.28it/s, loss=10.40 | * 3212.76]      \n",
      "100%|██████████| 5000/5000 [01:25<00:00, 58.56it/s, loss=0.80 | * 1.85]  \n",
      "100%|██████████| 5000/5000 [01:27<00:00, 57.17it/s, loss=0.77 | * 1.02]\n",
      "100%|██████████| 5000/5000 [01:40<00:00, 49.75it/s, loss=2642.80 | * 6952.56]   \n",
      "100%|██████████| 5000/5000 [01:50<00:00, 45.45it/s, loss=0.48 | * 3.97] \n",
      "100%|██████████| 5000/5000 [01:56<00:00, 43.09it/s, loss=0.75 | * 1.04] \n"
     ]
    },
    {
     "name": "stdout",
     "output_type": "stream",
     "text": [
      "repeat __ 4 __\n"
     ]
    },
    {
     "name": "stderr",
     "output_type": "stream",
     "text": [
      "100%|██████████| 5000/5000 [01:21<00:00, 61.06it/s, loss=2.08 | * 1.65]        \n",
      "100%|██████████| 5000/5000 [01:38<00:00, 50.63it/s, loss=0.90 | * 1.03]  \n",
      "100%|██████████| 5000/5000 [01:40<00:00, 49.77it/s, loss=1.01 | * 1.00] \n",
      "100%|██████████| 5000/5000 [01:26<00:00, 58.02it/s, loss=1.81 | * 3.66]         \n",
      "100%|██████████| 5000/5000 [01:23<00:00, 59.53it/s, loss=0.97 | * 1.04]\n",
      "100%|██████████| 5000/5000 [01:45<00:00, 47.18it/s, loss=0.78 | * 1.00]\n",
      "100%|██████████| 5000/5000 [01:38<00:00, 50.65it/s, loss=27.32 | * 2718.64]     \n",
      "100%|██████████| 5000/5000 [01:23<00:00, 59.55it/s, loss=0.83 | * 1.23] \n",
      "100%|██████████| 5000/5000 [01:30<00:00, 55.26it/s, loss=0.77 | * 1.08] \n",
      "100%|██████████| 5000/5000 [01:31<00:00, 54.63it/s, loss=7.14 | * 1139317.38]      \n",
      "100%|██████████| 5000/5000 [01:38<00:00, 50.89it/s, loss=0.45 | * 1.55]  \n",
      "100%|██████████| 5000/5000 [01:38<00:00, 50.59it/s, loss=0.29 | * 1.15] \n",
      "100%|██████████| 5000/5000 [01:26<00:00, 58.03it/s, loss=537.91 | * 18969.99]    \n",
      "100%|██████████| 5000/5000 [01:21<00:00, 61.45it/s, loss=1.83 | * 3.68] \n",
      "100%|██████████| 5000/5000 [01:38<00:00, 50.94it/s, loss=1.11 | * 1.01]\n",
      "100%|██████████| 5000/5000 [01:42<00:00, 48.95it/s, loss=1.80 | * 46255.42]     \n",
      "100%|██████████| 5000/5000 [01:23<00:00, 59.75it/s, loss=1.37 | * 1.70]   \n",
      "100%|██████████| 5000/5000 [01:26<00:00, 57.97it/s, loss=0.94 | * 1.01]\n",
      "100%|██████████| 5000/5000 [01:46<00:00, 47.14it/s, loss=17137.93 | * 2309.72]   \n",
      "100%|██████████| 5000/5000 [01:32<00:00, 54.07it/s, loss=4.37 | * 3.68]   \n",
      "100%|██████████| 5000/5000 [01:27<00:00, 57.31it/s, loss=0.80 | * 1.03] \n",
      "100%|██████████| 5000/5000 [01:23<00:00, 59.72it/s, loss=51.09 | * 366100416.00]      \n",
      "100%|██████████| 5000/5000 [01:36<00:00, 51.94it/s, loss=0.55 | * 4.80]  \n",
      "100%|██████████| 5000/5000 [01:31<00:00, 54.35it/s, loss=0.58 | * 1.02] \n"
     ]
    }
   ],
   "source": [
    "from nflows.nn.nets import MLP\n",
    "\n",
    "dims = [5, 10, 50, 100]\n",
    "dfs = [1., 2., 30.]\n",
    "\n",
    "for rep in range(5):\n",
    "    print(f'repeat __ {rep} __')\n",
    "    for activation, activation_fcn in activations.items():\n",
    "        for d in dims:\n",
    "            for df in dfs:\n",
    "                mlp = MLP(\n",
    "                    [d], [1], [20, 20],\n",
    "                    activation=activation_fcn\n",
    "                )\n",
    "\n",
    "                tst_loss, tst_ix = run_experiment(mlp, df, d)\n",
    "                \n",
    "                if (d, df, activation) not in data:\n",
    "                    data[(d, df, activation)] = []\n",
    "\n",
    "                data[(d, df, activation)].append(tst_loss.detach())"
   ]
  },
  {
   "cell_type": "code",
   "execution_count": 19,
   "metadata": {},
   "outputs": [
    {
     "data": {
      "image/png": "[encoded data removed]",
      "text/plain": [
       "<Figure size 1200x400 with 2 Axes>"
      ]
     },
     "metadata": {},
     "output_type": "display_data"
    }
   ],
   "source": [
    "import pandas as pd\n",
    "import seaborn as sns\n",
    "\n",
    "row_data = []\n",
    "for (dim, df, activation), results in data.items():\n",
    "    for res in results:\n",
    "        if df == 0.:\n",
    "          row_data.append({\n",
    "              'dim': dim,\n",
    "              'df': 'inf',\n",
    "              'activation': activation,\n",
    "              'test_mse': res.numpy(),\n",
    "          })\n",
    "        else:\n",
    "          row_data.append({\n",
    "              'dim': dim,\n",
    "              'df': df,\n",
    "              'activation': activation,\n",
    "              'test_mse': res.numpy(),\n",
    "          })\n",
    "\n",
    "\n",
    "result_dataframe = pd.DataFrame(row_data)\n",
    "result_dataframe.test_mse = result_dataframe.test_mse.astype(float)\n",
    "result_dataframe.to_csv('2024-03-20_NN_results_hd20.csv')\n",
    "\n"
   ]
  },
  {
   "cell_type": "code",
   "execution_count": null,
   "metadata": {},
   "outputs": [],
   "source": [
    "fig, axarr = plt.subplots(1, 2, figsize=(12, 4))\n",
    "sns.boxplot(\n",
    "  data=result_dataframe[result_dataframe.activation == 'sigmoid'],\n",
    "  x='test_mse',\n",
    "  y='df',\n",
    "  order=['inf', 30., 2., 1.],\n",
    "  orient='h',\n",
    "  ax=axarr[0],\n",
    ")\n",
    "sns.boxplot(\n",
    "  data=result_dataframe[result_dataframe.activation == 'relu'],\n",
    "  x='test_mse',\n",
    "  y='df',\n",
    "  order=['inf', 30., 2., 1.],\n",
    "  orient='h',\n",
    "  ax=axarr[1],\n",
    ")\n",
    "axarr[0].set_xlim([0.5, 10.])\n",
    "axarr[1].set_xlim([0.5, 10.])\n",
    "plt.show()"
   ]
  }
 ],
 "metadata": {
  "kernelspec": {
   "display_name": "tailnflows",
   "language": "python",
   "name": "python3"
  },
  "language_info": {
   "codemirror_mode": {
    "name": "ipython",
    "version": 3
   },
   "file_extension": ".py",
   "mimetype": "text/x-python",
   "name": "python",
   "nbconvert_exporter": "python",
   "pygments_lexer": "ipython3",
   "version": "3.9.16"
  }
 },
 "nbformat": 4,
 "nbformat_minor": 2
}
