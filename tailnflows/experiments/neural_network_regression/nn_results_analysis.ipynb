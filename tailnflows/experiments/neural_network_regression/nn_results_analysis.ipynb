{
 "cells": [
  {
   "cell_type": "code",
   "execution_count": 1,
   "metadata": {},
   "outputs": [],
   "source": [
    "import pandas as pd\n",
    "import matplotlib.pyplot as plt"
   ]
  },
  {
   "cell_type": "code",
   "execution_count": 25,
   "metadata": {},
   "outputs": [],
   "source": [
    "result_path = '2024-03-20_NN_results_hd20.csv'\n",
    "result_dataframe = pd.read_csv(result_path)"
   ]
  },
  {
   "cell_type": "code",
   "execution_count": 26,
   "metadata": {},
   "outputs": [
    {
     "name": "stdout",
     "output_type": "stream",
     "text": [
      "============================== 5 ==============================\n",
      "& 30.0 & 1.01 (1.03) & 1.01 (1.05)\\\\\n",
      "& 2.0 & 4.25 (9.65) & 1.02 (1.03)\\\\\n",
      "& 1.0 & 7.66e+03 (1.9e+04) & 1.8 (7.87)\\\\\n",
      "============================== 10 ==============================\n",
      "& 30.0 & 1.02 (1.03) & 1.01 (1.02)\\\\\n",
      "& 2.0 & 2.78 (6.2) & 1.05 (1.06)\\\\\n",
      "& 1.0 & 1.07e+04 (2.21e+05) & 9.88 (204)\\\\\n",
      "============================== 50 ==============================\n",
      "& 30.0 & 1.02 (1.03) & 1.09 (1.1)\\\\\n",
      "& 2.0 & 3.21 (6.03) & 1.22 (1.29)\\\\\n",
      "& 1.0 & 1.17e+04 (3.66e+04) & 244 (9.77e+03)\\\\\n",
      "============================== 100 ==============================\n",
      "& 30.0 & 1.04 (1.07) & 1.15 (1.18)\\\\\n",
      "& 2.0 & 5.37 (33.4) & 1.55 (1.89)\\\\\n",
      "& 1.0 & 9.54e+05 (3.66e+08) & 358 (1.14e+06)\\\\\n"
     ]
    }
   ],
   "source": [
    "import numpy as np\n",
    "\n",
    "dims = [5, 10, 50, 100]\n",
    "wanted_dfs = [30., 2., 1.]\n",
    "\n",
    "for dim in dims:\n",
    "    print('=='*15, dim, '=='*15)\n",
    "    for df in wanted_dfs:\n",
    "        selector = np.logical_and(\n",
    "            result_dataframe.dim == dim,\n",
    "            result_dataframe.df == df\n",
    "        )\n",
    "        result_slice = result_dataframe[selector].groupby('activation')['test_mse'].agg([\n",
    "            'mean', 'std', 'min', 'max', 'median'\n",
    "        ])\n",
    "\n",
    "        relu_mean = result_slice.loc['relu'][0]\n",
    "        relu_std = result_slice.loc['relu'][1]\n",
    "        relu_min = result_slice.loc['relu'][2]\n",
    "        relu_max = result_slice.loc['relu'][3]\n",
    "        relu_median = result_slice.loc['relu'][4]\n",
    "        sig_mean = result_slice.loc['sigmoid'][0]\n",
    "        sig_std = result_slice.loc['sigmoid'][1]\n",
    "        sig_min = result_slice.loc['sigmoid'][2]\n",
    "        sig_max = result_slice.loc['sigmoid'][3]\n",
    "        sig_median = result_slice.loc['sigmoid'][4]\n",
    "\n",
    "        if df == 'inf':\n",
    "            _df = '\\\\infty'\n",
    "            continue\n",
    "        else:\n",
    "            _df = df\n",
    "\n",
    "        # print(f'& {_df} & {sig_mean:.3g} ({sig_std:.3g}) & {relu_mean:.3g} ({relu_std:.3g}) \\\\\\\\')\n",
    "        # print(f'& {_df} & ({sig_min:.3g}, {sig_max:.3g}) & ({relu_min:.3g}, {relu_max:.3g}) \\\\\\\\')\n",
    "        print(f'& {_df} & {sig_median:.3g} ({sig_max:.3g}) & {relu_median:.3g} ({relu_max:.3g})\\\\\\\\')"
   ]
  }
 ],
 "metadata": {
  "kernelspec": {
   "display_name": "tailnflows",
   "language": "python",
   "name": "python3"
  },
  "language_info": {
   "codemirror_mode": {
    "name": "ipython",
    "version": 3
   },
   "file_extension": ".py",
   "mimetype": "text/x-python",
   "name": "python",
   "nbconvert_exporter": "python",
   "pygments_lexer": "ipython3",
   "version": "3.9.16"
  }
 },
 "nbformat": 4,
 "nbformat_minor": 2
}
