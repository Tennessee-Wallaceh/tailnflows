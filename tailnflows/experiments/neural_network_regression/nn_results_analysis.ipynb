{
 "cells": [
  {
   "cell_type": "code",
   "execution_count": 14,
   "metadata": {},
   "outputs": [],
   "source": [
    "import pandas as pd\n",
    "import matplotlib.pyplot as plt\n",
    "from tailnflows.utils import load_raw_data"
   ]
  },
  {
   "cell_type": "code",
   "execution_count": 15,
   "metadata": {},
   "outputs": [],
   "source": [
    "RESULT_PATH = 'nn_results/2024-04-dry'\n",
    "raw_data = load_raw_data(RESULT_PATH)['']\n",
    "result_dataframe = pd.DataFrame(raw_data)"
   ]
  },
  {
   "cell_type": "code",
   "execution_count": 16,
   "metadata": {},
   "outputs": [
    {
     "name": "stdout",
     "output_type": "stream",
     "text": [
      "============================== 5 ==============================\n",
      "& 30.0 & 2.02 (2.06) & 1.77 (1.84)\\\\\n",
      "& 2.0 & 8.17 (9.73) & 7.12 (10.7)\\\\\n",
      "& 1.0 & 6.22e+03 (4.73e+04) & 3.23e+04 (4.01e+04)\\\\\n",
      "============================== 10 ==============================\n",
      "& 30.0 & 2.07 (2.11) & 1.95 (1.98)\\\\\n",
      "& 2.0 & 15.4 (15.7) & 14.1 (14.6)\\\\\n",
      "& 1.0 & 1.9e+04 (1.87e+05) & 1.03e+04 (1.88e+04)\\\\\n",
      "============================== 50 ==============================\n",
      "& 30.0 & 2.07 (2.1) & 2.04 (2.05)\\\\\n",
      "& 2.0 & 9.32 (25) & 9.06 (24.6)\\\\\n",
      "& 1.0 & 1.7e+03 (1.95e+03) & 2.61e+03 (4.23e+04)\\\\\n",
      "============================== 100 ==============================\n",
      "& 30.0 & 2.05 (2.14) & 2.02 (2.11)\\\\\n",
      "& 2.0 & 11.2 (16.1) & 10.8 (15.7)\\\\\n",
      "& 1.0 & 1.15e+03 (4.46e+04) & 2.36e+04 (4.38e+04)\\\\\n"
     ]
    }
   ],
   "source": [
    "import numpy as np\n",
    "\n",
    "dims = [5, 10, 50, 100]\n",
    "wanted_dfs = [30., 2., 1.]\n",
    "\n",
    "for dim in dims:\n",
    "    print('=='*15, dim, '=='*15)\n",
    "    for df in wanted_dfs:\n",
    "        selector = np.logical_and(\n",
    "            result_dataframe.dim == dim,\n",
    "            result_dataframe.df == df\n",
    "        )\n",
    "        result_slice = result_dataframe[selector].groupby('activation')['tst_loss'].agg([\n",
    "            'mean', 'std', 'min', 'max', 'median'\n",
    "        ])\n",
    "\n",
    "        relu_mean = result_slice.loc['relu'][0]\n",
    "        relu_std = result_slice.loc['relu'][1]\n",
    "        relu_min = result_slice.loc['relu'][2]\n",
    "        relu_max = result_slice.loc['relu'][3]\n",
    "        relu_median = result_slice.loc['relu'][4]\n",
    "        \n",
    "        sig_mean = result_slice.loc['sigmoid'][0]\n",
    "        sig_std = result_slice.loc['sigmoid'][1]\n",
    "        sig_min = result_slice.loc['sigmoid'][2]\n",
    "        sig_max = result_slice.loc['sigmoid'][3]\n",
    "        sig_median = result_slice.loc['sigmoid'][4]\n",
    "\n",
    "        if df == 'inf':\n",
    "            _df = '\\\\infty'\n",
    "            continue\n",
    "        else:\n",
    "            _df = df\n",
    "\n",
    "        # print(f'& {_df} & {sig_mean:.3g} ({sig_std:.3g}) & {relu_mean:.3g} ({relu_std:.3g}) \\\\\\\\')\n",
    "        # print(f'& {_df} & ({sig_min:.3g}, {sig_max:.3g}) & ({relu_min:.3g}, {relu_max:.3g}) \\\\\\\\')\n",
    "        print(f'& {_df} & {sig_median:.3g} ({sig_max:.3g}) & {relu_median:.3g} ({relu_max:.3g})\\\\\\\\')"
   ]
  }
 ],
 "metadata": {
  "kernelspec": {
   "display_name": "tailnflows",
   "language": "python",
   "name": "python3"
  },
  "language_info": {
   "codemirror_mode": {
    "name": "ipython",
    "version": 3
   },
   "file_extension": ".py",
   "mimetype": "text/x-python",
   "name": "python",
   "nbconvert_exporter": "python",
   "pygments_lexer": "ipython3",
   "version": "3.9.16"
  }
 },
 "nbformat": 4,
 "nbformat_minor": 2
}
